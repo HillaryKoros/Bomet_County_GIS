{
 "cells": [
  {
   "cell_type": "code",
   "execution_count": 3,
   "metadata": {},
   "outputs": [],
   "source": [
    "import ee\n",
    "import geemap\n",
    "import os"
   ]
  },
  {
   "cell_type": "code",
   "execution_count": 4,
   "metadata": {},
   "outputs": [
    {
     "data": {
      "application/vnd.jupyter.widget-view+json": {
       "model_id": "e47dfda366ae4f1baed1dbc1f9902c2b",
       "version_major": 2,
       "version_minor": 0
      },
      "text/plain": [
       "Map(center=[-0.838534, 35.223872], controls=(WidgetControl(options=['position', 'transparent_bg'], widget=HBox…"
      ]
     },
     "execution_count": 4,
     "metadata": {},
     "output_type": "execute_result"
    },
    {
     "data": {
      "application/javascript": "\n        var code = IPython.notebook.insert_cell_below('code');\n        code.set_text(atob(\"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\"));\n    ",
      "text/plain": [
       "<IPython.core.display.Javascript object>"
      ]
     },
     "metadata": {},
     "output_type": "display_data"
    },
    {
     "data": {
      "application/javascript": "\n        var code = IPython.notebook.insert_cell_below('code');\n        code.set_text(atob(\"IyBjcmVhdGUgZnVuY3Rpb24gdG8gY3JvcCB3aXRoIHRhYmxlIGJvdW5kYXJpZXMKZGVmIHRhYmxlX2JvdW5kcyhpbWFnZSk6CiAgIyBDcm9wIGJ5IHRhYmxlIGV4dGVuc2lvbgogIHJldHVybiBpbWFnZS5jbGlwKHRhYmxlKQo=\"));\n    ",
      "text/plain": [
       "<IPython.core.display.Javascript object>"
      ]
     },
     "metadata": {},
     "output_type": "display_data"
    }
   ],
   "source": [
    "Map = geemap.Map(center=(-0.838534, 35.223872), zoom=13)\n",
    "Map"
   ]
  },
  {
   "cell_type": "code",
   "execution_count": 5,
   "metadata": {},
   "outputs": [],
   "source": [
    "parcels = ee.FeatureCollection(\"projects/ee-koros-projects/assets/Koimeret_Registration_section\")"
   ]
  },
  {
   "cell_type": "code",
   "execution_count": 6,
   "metadata": {},
   "outputs": [
    {
     "data": {
      "application/vnd.jupyter.widget-view+json": {
       "model_id": "e47dfda366ae4f1baed1dbc1f9902c2b",
       "version_major": 2,
       "version_minor": 0
      },
      "text/plain": [
       "Map(bottom=1053761.0, center=[-0.8356866055744563, 35.22486634901747], controls=(WidgetControl(options=['posit…"
      ]
     },
     "execution_count": 6,
     "metadata": {},
     "output_type": "execute_result"
    }
   ],
   "source": [
    "image = (\n",
    "    ee.ImageCollection('LANDSAT/LC08/C01/T1_SR')\n",
    "    .filterBounds(parcels)\n",
    "    .filterDate('2016-01-01', '2016-12-31')\n",
    "    .sort('CLOUD_COVER')\n",
    "    .first()\n",
    "    .select('B[1-7]')\n",
    ")\n",
    "\n",
    "vis_params = {'min': 0, 'max': 3000, 'bands': ['B4', 'B3', 'B2']}\n",
    "\n",
    "Map.centerObject(parcels, 8)\n",
    "Map.addLayer(image.clip(parcels), vis_params, \"Landsat-8\")\n",
    "Map"
   ]
  },
  {
   "cell_type": "code",
   "execution_count": 7,
   "metadata": {},
   "outputs": [
    {
     "data": {
      "text/plain": [
       "'2016-02-16'"
      ]
     },
     "execution_count": 7,
     "metadata": {},
     "output_type": "execute_result"
    }
   ],
   "source": [
    "ee.Date(image.get('system:time_start')).format('YYYY-MM-dd').getInfo()"
   ]
  },
  {
   "cell_type": "code",
   "execution_count": 8,
   "metadata": {},
   "outputs": [
    {
     "data": {
      "text/plain": [
       "0.01"
      ]
     },
     "execution_count": 8,
     "metadata": {},
     "output_type": "execute_result"
    }
   ],
   "source": [
    "image.get('CLOUD_COVER').getInfo()"
   ]
  },
  {
   "cell_type": "code",
   "execution_count": 16,
   "metadata": {},
   "outputs": [],
   "source": [
    "# create function to crop with table boundaries\n",
    "def table_bounds(image):\n",
    "  # Crop by table extension\n",
    "  return image.clip(parcels)\n"
   ]
  },
  {
   "cell_type": "code",
   "execution_count": null,
   "metadata": {},
   "outputs": [
    {
     "data": {
      "application/vnd.jupyter.widget-view+json": {
       "model_id": "e47dfda366ae4f1baed1dbc1f9902c2b",
       "version_major": 2,
       "version_minor": 0
      },
      "text/plain": [
       "Map(bottom=17146.0, center=[-5.069057826784033, 32.77221679687501], controls=(WidgetControl(options=['position…"
      ]
     },
     "execution_count": 17,
     "metadata": {},
     "output_type": "execute_result"
    }
   ],
   "source": [
    "esri_lulc10 = ee.ImageCollection(\"projects/sat-io/open-datasets/landcover/ESRI_Global-LULC_10m\").map(table_bounds)\n",
    "# Define a dictionary which will be used to make legend and visualize image on map\n",
    "dict = {\n",
    "  \"names\": [\n",
    "    \"Water\",\n",
    "    \"Trees\",\n",
    "    \"Grass\",\n",
    "    \"Flooded Vegetation\",\n",
    "    \"Crops\",\n",
    "    \"Scrub/Shrub\",\n",
    "    \"Built Area\",\n",
    "    \"Bare Ground\",\n",
    "    \"Snow/Ice\",\n",
    "    \"Clouds\"\n",
    "  ],\n",
    "  \"colors\": [\n",
    "    \"#1A5BAB\",\n",
    "    \"#358221\",\n",
    "    \"#A7D282\",\n",
    "    \"#87D19E\",\n",
    "    \"#FFDB5C\",\n",
    "    \"#EECFA8\",\n",
    "    \"#ED022A\",\n",
    "    \"#EDE9E4\",\n",
    "    \"#F2FAFF\",\n",
    "    \"#C8C8C8\"\n",
    "  ]}\n",
    "\n",
    "\n",
    "  # Get the list of palette colors and class names from the image.\n",
    "palette = dict['colors']\n",
    "names = dict['names']\n",
    "\n",
    "\n",
    "# Add image to the map\n",
    "Map.addLayer(esri_lulc10.first(), {'min':1, 'max':10, 'palette':dict['colors']}, 'ESRI LULC 10m')\n",
    "Map\n"
   ]
  },
  {
   "cell_type": "code",
   "execution_count": 9,
   "metadata": {},
   "outputs": [],
   "source": [
    "esri_lulc10 = ee.ImageCollection(\"projects/sat-io/open-datasets/landcover/ESRI_Global-LULC_10m\");"
   ]
  },
  {
   "cell_type": "code",
   "execution_count": 11,
   "metadata": {},
   "outputs": [
    {
     "ename": "TypeError",
     "evalue": "unhashable type: 'list'",
     "output_type": "error",
     "traceback": [
      "\u001b[1;31m---------------------------------------------------------------------------\u001b[0m",
      "\u001b[1;31mTypeError\u001b[0m                                 Traceback (most recent call last)",
      "\u001b[1;32md:\\Bomet County Lands\\Bomet_County_GIS\\Supervised_Sentinel_Koimeret.ipynb Cell 8\u001b[0m line \u001b[0;36m3\n\u001b[0;32m     <a href='vscode-notebook-cell:/d%3A/Bomet%20County%20Lands/Bomet_County_GIS/Supervised_Sentinel_Koimeret.ipynb#X14sZmlsZQ%3D%3D?line=29'>30</a>\u001b[0m names \u001b[39m=\u001b[39m \u001b[39mdict\u001b[39m[\u001b[39m'\u001b[39m\u001b[39mnames\u001b[39m\u001b[39m'\u001b[39m]\n\u001b[0;32m     <a href='vscode-notebook-cell:/d%3A/Bomet%20County%20Lands/Bomet_County_GIS/Supervised_Sentinel_Koimeret.ipynb#X14sZmlsZQ%3D%3D?line=30'>31</a>\u001b[0m \u001b[39m# Add image to the map\u001b[39;00m\n\u001b[1;32m---> <a href='vscode-notebook-cell:/d%3A/Bomet%20County%20Lands/Bomet_County_GIS/Supervised_Sentinel_Koimeret.ipynb#X14sZmlsZQ%3D%3D?line=31'>32</a>\u001b[0m Map\u001b[39m.\u001b[39maddLayer(esri_lulc10\u001b[39m.\u001b[39mmosaic()\u001b[39m.\u001b[39mclip(image\u001b[39m.\u001b[39mgeometry()), {\u001b[39mmin\u001b[39m:\u001b[39m1\u001b[39m, \u001b[39mmax\u001b[39m:\u001b[39m10\u001b[39m, palette:\u001b[39mdict\u001b[39m[\u001b[39m'\u001b[39m\u001b[39mcolors\u001b[39m\u001b[39m'\u001b[39m]}, \u001b[39m'\u001b[39m\u001b[39mESRI LULC 10m\u001b[39m\u001b[39m'\u001b[39m)\n\u001b[0;32m     <a href='vscode-notebook-cell:/d%3A/Bomet%20County%20Lands/Bomet_County_GIS/Supervised_Sentinel_Koimeret.ipynb#X14sZmlsZQ%3D%3D?line=32'>33</a>\u001b[0m Map\n",
      "\u001b[1;31mTypeError\u001b[0m: unhashable type: 'list'"
     ]
    }
   ],
   "source": [
    "# Define a dictionary which will be used to make legend and visualize image on map\n",
    "dict = {\n",
    "  \"names\": [\n",
    "    \"Water\",\n",
    "    \"Trees\",\n",
    "    \"Grass\",\n",
    "    \"Flooded Vegetation\",\n",
    "    \"Crops\",\n",
    "    \"Scrub/Shrub\",\n",
    "    \"Built Area\",\n",
    "    \"Bare Ground\",\n",
    "    \"Snow/Ice\",\n",
    "    \"Clouds\"\n",
    "  ],\n",
    "  \"colors\": [\n",
    "    \"#1A5BAB\",\n",
    "    \"#358221\",\n",
    "    \"#A7D282\",\n",
    "    \"#87D19E\",\n",
    "    \"#FFDB5C\",\n",
    "    \"#EECFA8\",\n",
    "    \"#ED022A\",\n",
    "    \"#EDE9E4\",\n",
    "    \"#F2FAFF\",\n",
    "    \"#C8C8C8\"\n",
    "  ]}\n",
    "\n",
    "# Get the list of palette colors and class names from the image.\n",
    "palette = dict['colors']\n",
    "names = dict['names']\n",
    "# Add image to the map\n",
    "Map.addLayer(esri_lulc10.mosaic().clip(image.geometry()), {min:1, max:10, palette:dict['colors']}, 'ESRI LULC 10m')\n",
    "Map"
   ]
  },
  {
   "cell_type": "code",
   "execution_count": null,
   "metadata": {},
   "outputs": [],
   "source": [
    "nlcd = ee.Image('USGS/NLCD/NLCD2016').select('landcover').clip(image.geometry())\n",
    "Map.addLayer(nlcd, {}, 'NLCD')\n",
    "Map"
   ]
  }
 ],
 "metadata": {
  "kernelspec": {
   "display_name": "geo",
   "language": "python",
   "name": "python3"
  },
  "language_info": {
   "codemirror_mode": {
    "name": "ipython",
    "version": 3
   },
   "file_extension": ".py",
   "mimetype": "text/x-python",
   "name": "python",
   "nbconvert_exporter": "python",
   "pygments_lexer": "ipython3",
   "version": "3.10.12"
  }
 },
 "nbformat": 4,
 "nbformat_minor": 2
}
